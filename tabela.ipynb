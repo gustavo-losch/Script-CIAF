{
 "cells": [
  {
   "cell_type": "code",
   "execution_count": 12,
   "metadata": {},
   "outputs": [
    {
     "name": "stdout",
     "output_type": "stream",
     "text": [
      "8\n",
      "    DOCTO: VENCIMENTO: R$ DEVIDO:\n",
      "5  OS-5933  27/03/2023     100,00\n",
      "6  OS-5955  30/03/2023     120,00\n",
      "7  OS-6032  12/04/2023      80,00\n"
     ]
    },
    {
     "name": "stderr",
     "output_type": "stream",
     "text": [
      "c:\\Users\\Gustavo Losch\\AppData\\Local\\Programs\\Python\\Python312\\Lib\\site-packages\\tabula\\io.py:1045: FutureWarning: errors='ignore' is deprecated and will raise in a future version. Use to_numeric without passing `errors` and catch exceptions explicitly instead\n",
      "  df[c] = pd.to_numeric(df[c], errors=\"ignore\")\n"
     ]
    }
   ],
   "source": [
    "import tabula\n",
    "import pandas\n",
    "import pyautogui\n",
    "import time\n",
    "import tkinter\n",
    "import customtkinter\n",
    "\n",
    "tabela = tabula.read_pdf(\"teste2.pdf\", pages=\"all\")[0] #PDF Table read and transform to dataframe\n",
    "tabela.rename(columns=tabela.iloc[4], inplace = True)\n",
    "tabela = tabela[['DOCTO:', 'VENCIMENTO:', 'R$ DEVIDO:']]\n",
    "tabela = tabela.drop(0)\n",
    "tabela = tabela.drop(1)\n",
    "tabela = tabela.drop(2)\n",
    "tabela = tabela.drop(3)\n",
    "tabela = tabela.drop(4)\n",
    "ultimo = len(tabela) + 4\n",
    "tabela = tabela.drop(ultimo)\n",
    "\n",
    "print(ultimo)\n",
    "print(tabela)"
   ]
  },
  {
   "cell_type": "code",
   "execution_count": 16,
   "metadata": {},
   "outputs": [
    {
     "name": "stdout",
     "output_type": "stream",
     "text": [
      "12102024\n"
     ]
    }
   ],
   "source": [
    "import re\n",
    "\n",
    "texto = \"12/10/2024\"\n",
    "texto = re.sub('[/]', '', texto)\n",
    "print(texto)\n"
   ]
  }
 ],
 "metadata": {
  "kernelspec": {
   "display_name": "Python 3",
   "language": "python",
   "name": "python3"
  },
  "language_info": {
   "codemirror_mode": {
    "name": "ipython",
    "version": 3
   },
   "file_extension": ".py",
   "mimetype": "text/x-python",
   "name": "python",
   "nbconvert_exporter": "python",
   "pygments_lexer": "ipython3",
   "version": "3.12.3"
  }
 },
 "nbformat": 4,
 "nbformat_minor": 2
}
